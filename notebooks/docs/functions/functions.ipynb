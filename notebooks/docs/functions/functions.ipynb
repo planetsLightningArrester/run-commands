{
  "cells": [
    {
      "attachments": {},
      "cell_type": "markdown",
      "metadata": {},
      "source": [
        "# Run-commands functions\n",
        "All functions are presented here and can be tested using the `Bash` kernel. See the setup below to show more info about the kernel setup.\n",
        "\n",
        "> Note: you may see `# shellcheck disable=SC2148` at the beginning of the scripts. This prevent the ShellCheck extension to show the error of missing shebang"
      ]
    },
    {
      "attachments": {},
      "cell_type": "markdown",
      "metadata": {},
      "source": [
        "#### Kernel setup to run this Notebook"
      ]
    },
    {
      "attachments": {},
      "cell_type": "markdown",
      "metadata": {},
      "source": [
        "1. Run the commands below"
      ]
    },
    {
      "cell_type": "code",
      "execution_count": null,
      "metadata": {
        "vscode": {
          "languageId": "shellscript"
        }
      },
      "outputs": [],
      "source": [
        "# shellcheck disable=SC2148\n",
        "python3 -m pip install jupyter install bash_kernel\n",
        "python3 -m bash_kernel.install"
      ]
    },
    {
      "attachments": {},
      "cell_type": "markdown",
      "metadata": {},
      "source": [
        "2. On VS Code window, press `F1` and select `Developer: Reload window`\n",
        "3. After reload, press `F1` again and run `Notebook: Select Notebook Kernel` > `Select Another Kernel...` > `Jupyter Kernel...` > `Bash`\n",
        "4. You're ready!"
      ]
    },
    {
      "attachments": {},
      "cell_type": "markdown",
      "metadata": {},
      "source": [
        "#### `cdf`"
      ]
    },
    {
      "attachments": {},
      "cell_type": "markdown",
      "metadata": {},
      "source": [
        "Change the directory to the dirname of a given path"
      ]
    },
    {
      "cell_type": "code",
      "execution_count": 20,
      "metadata": {
        "vscode": {
          "languageId": "shellscript"
        }
      },
      "outputs": [
        {
          "name": "stdout",
          "output_type": "stream",
          "text": [
            "You're here /tmp\n",
            "Now you're in the same path as 'settings.json': /home/ubuntu/run-commands/.vscode\n"
          ]
        }
      ],
      "source": [
        "# shellcheck disable=SC2148\n",
        "echo \"You're here $PWD\";\n",
        "cdf \"$HOME/run-commands/.vscode/settings.json\"\n",
        "echo \"Now you're in the same path as 'settings.json': $PWD\";"
      ]
    },
    {
      "attachments": {},
      "cell_type": "markdown",
      "metadata": {},
      "source": [
        "#### `countfiles`"
      ]
    },
    {
      "attachments": {},
      "cell_type": "markdown",
      "metadata": {},
      "source": [
        "Count the number of files, links, and directories in the current directory"
      ]
    },
    {
      "cell_type": "code",
      "execution_count": 21,
      "metadata": {
        "vscode": {
          "languageId": "shellscript"
        }
      },
      "outputs": [
        {
          "name": "stdout",
          "output_type": "stream",
          "text": [
            "2 files\n",
            "0 links\n",
            "1 directories\n"
          ]
        }
      ],
      "source": [
        "# shellcheck disable=SC2148\n",
        "countfiles"
      ]
    },
    {
      "attachments": {},
      "cell_type": "markdown",
      "metadata": {},
      "source": [
        "#### `cpg`"
      ]
    },
    {
      "attachments": {},
      "cell_type": "markdown",
      "metadata": {},
      "source": [
        "Copy a file or a directory and move to the directory or the path of the file"
      ]
    },
    {
      "cell_type": "code",
      "execution_count": 22,
      "metadata": {
        "vscode": {
          "languageId": "shellscript"
        }
      },
      "outputs": [
        {
          "name": "stdout",
          "output_type": "stream",
          "text": [
            "You're here: /home/ubuntu/run-commands/.vscode\n",
            "Now you and your file are here: /tmp\n",
            "And your file is here too\n",
            "/tmp/newDesign.tar.gz\n"
          ]
        }
      ],
      "source": [
        "# shellcheck disable=SC2148\n",
        "echo \"You're here: $PWD\"\n",
        "cpg \"$HOME\"/run-commands/notebooks/docs/functions/assets/design.tar.gz /tmp/newDesign.tar.gz\n",
        "echo \"Now you and your file are here: $PWD\"\n",
        "echo \"And your file is here too\"\n",
        "realpath newDesign.tar.gz"
      ]
    },
    {
      "attachments": {},
      "cell_type": "markdown",
      "metadata": {},
      "source": [
        "#### `cpp`"
      ]
    },
    {
      "attachments": {},
      "cell_type": "markdown",
      "metadata": {},
      "source": [
        "Copy a file or a directory with a progress bar. Not optimal for directories with a lot of files - the logs go messy"
      ]
    },
    {
      "cell_type": "code",
      "execution_count": 23,
      "metadata": {
        "vscode": {
          "languageId": "shellscript"
        }
      },
      "outputs": [
        {
          "name": "stdout",
          "output_type": "stream",
          "text": [
            "Creating a huge file as an example...\n",
            "huge_file\t100% [==========================>] | 1 s\n"
          ]
        }
      ],
      "source": [
        "# shellcheck disable=SC2148\n",
        "# Create a huge file if it doesn't exist (not tracked by the repo)\n",
        "[[ ! -f \"$HOME\"/run-commands/notebooks/docs/functions/assets/huge_dir/huge_file ]] && echo \"Creating a huge file as an example...\" && mkdirg \"$HOME\"/run-commands/notebooks/docs/functions/assets/huge_dir && yes \"$RANDOM\" 2>/dev/null | head -n 100000000 > huge_file\n",
        "cpp \"$HOME\"/run-commands/notebooks/docs/functions/assets/huge_dir/huge_file /tmp/huge_file_\"$USER\""
      ]
    },
    {
      "cell_type": "code",
      "execution_count": 24,
      "metadata": {
        "vscode": {
          "languageId": "shellscript"
        }
      },
      "outputs": [
        {
          "name": "stdout",
          "output_type": "stream",
          "text": [
            "sending incremental file list\n",
            "./\n",
            "huge_file\n",
            "        600.00M 100%  969.79MB/s    0:00:00 (xfr#1, to-chk=0/2)\n"
          ]
        }
      ],
      "source": [
        "# shellcheck disable=SC2148\n",
        "# Create a huge dir if it doesn't exist (not tracked by the repo)\n",
        "[[ ! -f \"$HOME\"/run-commands/notebooks/docs/functions/assets/huge_dir/huge_file ]] && echo \"Creating a huge dir as an example...\" && mkdirg \"$HOME\"/run-commands/notebooks/docs/functions/assets/huge_dir && yes \"$RANDOM\" 2>/dev/null | head -n 100000000 > huge_file\n",
        "cpp \"$HOME\"/run-commands/notebooks/docs/functions/assets/huge_dir /tmp/huge_dir_\"$USER\""
      ]
    },
    {
      "attachments": {},
      "cell_type": "markdown",
      "metadata": {},
      "source": [
        "#### `ctar`"
      ]
    },
    {
      "attachments": {},
      "cell_type": "markdown",
      "metadata": {},
      "source": [
        "Create a `tar.gz` compressed file and required path"
      ]
    },
    {
      "cell_type": "code",
      "execution_count": 25,
      "metadata": {
        "vscode": {
          "languageId": "shellscript"
        }
      },
      "outputs": [
        {
          "name": "stdout",
          "output_type": "stream",
          "text": [
            "tar: Removing leading `/' from member names\n",
            "/home/ubuntu/run-commands/notebooks/docs/functions/assets/huge_dir/\n",
            "/home/ubuntu/run-commands/notebooks/docs/functions/assets/huge_dir/huge_file\n"
          ]
        }
      ],
      "source": [
        "# shellcheck disable=SC2148\n",
        "[[ ! -f \"$HOME\"/run-commands/notebooks/docs/functions/assets/huge_dir/huge_file ]] && echo \"Creating a huge dir as an example...\" && mkdirg \"$HOME\"/run-commands/notebooks/docs/functions/assets/huge_dir && yes \"$RANDOM\" 2>/dev/null | head -n 100000000 > huge_file\n",
        "ctar \"/tmp/${USER}_${RANDOM}/not_that_huge.tar.gz\" \"$HOME\"/run-commands/notebooks/docs/functions/assets/huge_dir"
      ]
    },
    {
      "attachments": {},
      "cell_type": "markdown",
      "metadata": {},
      "source": [
        "### `freplace`"
      ]
    },
    {
      "attachments": {},
      "cell_type": "markdown",
      "metadata": {},
      "source": [
        "Find and replace expression in files of the current directory. Uses `grep` to find and `sed` to replace"
      ]
    },
    {
      "cell_type": "code",
      "execution_count": 26,
      "metadata": {
        "vscode": {
          "languageId": "shellscript"
        }
      },
      "outputs": [
        {
          "name": "stdout",
          "output_type": "stream",
          "text": [
            "[BEFORE]\n",
            "this is a very long text\n",
            "today is very hot\n",
            "[AFTER]\n",
            "this is a not that long text\n",
            "today is not that hot\n"
          ]
        }
      ],
      "source": [
        "# shellcheck disable=SC2148\n",
        "mkdir -p \"/tmp/freplace_$USER\"\n",
        "cd \"/tmp/freplace_$USER\" || exit 1\n",
        "echo \"this is a very long text\" > \"$USER.1.my.test\";\n",
        "echo \"today is very hot\" > \"$USER.2.my.test\";\n",
        "\n",
        "echo \"[BEFORE]\"\n",
        "cat ./*.my.test;\n",
        "\n",
        "freplace \"very\" \"s/(.*)very(.*)/\\1not that\\2/g\"\n",
        "\n",
        "echo \"[AFTER]\"\n",
        "cat ./*.my.test;"
      ]
    },
    {
      "attachments": {},
      "cell_type": "markdown",
      "metadata": {},
      "source": [
        "#### `ftext`"
      ]
    },
    {
      "attachments": {},
      "cell_type": "markdown",
      "metadata": {},
      "source": [
        "Find text inside the files of the current directory"
      ]
    },
    {
      "cell_type": "code",
      "execution_count": 27,
      "metadata": {
        "vscode": {
          "languageId": "shellscript"
        }
      },
      "outputs": [
        {
          "name": "stdout",
          "output_type": "stream",
          "text": [
            "\u001b[35m\u001b[K./common\u001b[m\u001b[K\u001b[36m\u001b[K:\u001b[m\u001b[K\u001b[32m\u001b[K10\u001b[m\u001b[K\u001b[36m\u001b[K:\u001b[m\u001b[K#   A: Basically, alias is \"\u001b[01;31m\u001b[Kset-alias\u001b[m\u001b[K\", and (un)setenv is a ./functions in Bash. Conditional\n",
            "\u001b[35m\u001b[K./common\u001b[m\u001b[K\u001b[36m\u001b[K:\u001b[m\u001b[K\u001b[32m\u001b[K12\u001b[m\u001b[K\u001b[36m\u001b[K:\u001b[m\u001b[K#      ! So, do not use \"alias\"! Use \"\u001b[01;31m\u001b[Kset-alias\u001b[m\u001b[K\"!\n",
            "\u001b[35m\u001b[K./common\u001b[m\u001b[K\u001b[36m\u001b[K:\u001b[m\u001b[K\u001b[32m\u001b[K57\u001b[m\u001b[K\u001b[36m\u001b[K:\u001b[m\u001b[Ktest ! \"`command -v code`\" && test \"`command -v code-insiders`\" && \u001b[01;31m\u001b[Kset-alias\u001b[m\u001b[K code 'code-insiders' && setenv EDITOR \"code-insiders --wait\"\n",
            "\u001b[35m\u001b[K./common\u001b[m\u001b[K\u001b[36m\u001b[K:\u001b[m\u001b[K\u001b[32m\u001b[K61\u001b[m\u001b[K\u001b[36m\u001b[K:\u001b[m\u001b[K\u001b[01;31m\u001b[Kset-alias\u001b[m\u001b[K edit '$EDITOR'\n"
          ]
        }
      ],
      "source": [
        "# shellcheck disable=SC2148\n",
        "cd \"$HOME\"/run-commands/env || exit 1\n",
        "ftext \"set-alias\""
      ]
    },
    {
      "attachments": {},
      "cell_type": "markdown",
      "metadata": {},
      "source": [
        "#### `machine`"
      ]
    },
    {
      "attachments": {},
      "cell_type": "markdown",
      "metadata": {},
      "source": [
        "Dumps the machine current status: CPU, memory, and storage"
      ]
    },
    {
      "cell_type": "code",
      "execution_count": 28,
      "metadata": {
        "vscode": {
          "languageId": "shellscript"
        }
      },
      "outputs": [
        {
          "name": "stdout",
          "output_type": "stream",
          "text": [
            "CPU Usage: 0.4525%\n",
            "Memory Usage: 1528/15893MB (9.61%)\n",
            "Disk Usage: 14/251GB (6%)\n"
          ]
        }
      ],
      "source": [
        "# shellcheck disable=SC2148\n",
        "machine"
      ]
    },
    {
      "attachments": {},
      "cell_type": "markdown",
      "metadata": {},
      "source": [
        "#### `mkdirg`"
      ]
    },
    {
      "attachments": {},
      "cell_type": "markdown",
      "metadata": {},
      "source": [
        "Make a directory recursively and `cd` to it"
      ]
    },
    {
      "cell_type": "code",
      "execution_count": 1,
      "metadata": {
        "vscode": {
          "languageId": "shellscript"
        }
      },
      "outputs": [
        {
          "name": "stdout",
          "output_type": "stream",
          "text": [
            "/tmp/ubuntu_rc\n",
            "total 16K\n",
            "4.0K drwxrwxr-x  2 ubuntu ubuntu 4.0K Jul  7 14:46 \u001b[0m\u001b[00;34m.\u001b[0m/\n",
            " 12K drwxrwxrwt 18 root   root    12K Jul  7 15:02 \u001b[30;42m..\u001b[0m/\n"
          ]
        }
      ],
      "source": [
        "# shellcheck disable=SC2148\n",
        "mkdirg /tmp/\"$USER\"_rc\n",
        "pwd && ll"
      ]
    },
    {
      "attachments": {},
      "cell_type": "markdown",
      "metadata": {},
      "source": [
        "#### `mvg`"
      ]
    },
    {
      "attachments": {},
      "cell_type": "markdown",
      "metadata": {},
      "source": [
        "Move a file or a directory and move to the directory or the path of the file"
      ]
    },
    {
      "cell_type": "code",
      "execution_count": 2,
      "metadata": {
        "vscode": {
          "languageId": "shellscript"
        }
      },
      "outputs": [
        {
          "name": "stdout",
          "output_type": "stream",
          "text": [
            "You're here: /tmp/ubuntu_rc\n",
            "Now you and your dir are here: /tmp/assets_ubuntu_2/assets_ubuntu\n",
            "And your files are here too\n",
            "total 8.0K\n",
            "4.0K drwxrwxr-x 2 ubuntu ubuntu 4.0K Jul  7 15:03 \u001b[0m\u001b[00;34m.\u001b[0m/\n",
            "4.0K drwxrwxr-x 3 ubuntu ubuntu 4.0K Jul  7 15:03 \u001b[00;34m..\u001b[0m/\n",
            "   0 -rw-rw-r-- 1 ubuntu ubuntu    0 Jul  7 15:03 \u001b[00msuper_file\u001b[0m\n"
          ]
        }
      ],
      "source": [
        "# shellcheck disable=SC2148\n",
        "# crete an example file inside a dir\n",
        "new /tmp/assets_\"$USER\"/super_file\n",
        "echo \"You're here: $PWD\"\n",
        "mvg /tmp/assets_\"$USER\" /tmp/assets_\"$USER\"_2\n",
        "echo \"Now you and your dir are here: $PWD\"\n",
        "echo \"And your files are here too\"\n",
        "ll"
      ]
    },
    {
      "attachments": {},
      "cell_type": "markdown",
      "metadata": {},
      "source": [
        "#### `new`"
      ]
    },
    {
      "attachments": {},
      "cell_type": "markdown",
      "metadata": {},
      "source": [
        "Create a new file and the required path"
      ]
    },
    {
      "cell_type": "code",
      "execution_count": 3,
      "metadata": {
        "vscode": {
          "languageId": "shellscript"
        }
      },
      "outputs": [
        {
          "name": "stdout",
          "output_type": "stream",
          "text": [
            "/tmp/not/existent/nested/25187/file\n",
            "/tmp/not/existent/nested/13937/file\n"
          ]
        }
      ],
      "source": [
        "# shellcheck disable=SC2148\n",
        "new /tmp/not/existent/nested/$RANDOM/file\n",
        "find /tmp/not/existent -iname file"
      ]
    },
    {
      "attachments": {},
      "cell_type": "markdown",
      "metadata": {},
      "source": [
        "#### `newo`"
      ]
    },
    {
      "attachments": {},
      "cell_type": "markdown",
      "metadata": {},
      "source": [
        "Create a new file and the required path and open the file with the default editor (defined by `$EDITOR`)"
      ]
    },
    {
      "attachments": {},
      "cell_type": "markdown",
      "metadata": {},
      "source": [
        "#### `trim`\n"
      ]
    },
    {
      "attachments": {},
      "cell_type": "markdown",
      "metadata": {},
      "source": [
        "Trim leading and trailing spaces of a string"
      ]
    },
    {
      "cell_type": "code",
      "execution_count": 4,
      "metadata": {
        "vscode": {
          "languageId": "shellscript"
        }
      },
      "outputs": [
        {
          "name": "stdout",
          "output_type": "stream",
          "text": [
            "baa, baa, happy sheep have you any wool?\n",
            "yes sir, yes sir, three bags full\n"
          ]
        }
      ],
      "source": [
        "# shellcheck disable=SC2148\n",
        "trim \"   baa, baa, happy sheep have you any wool?    \"\n",
        "trim \"            yes sir, yes sir, three bags full    \""
      ]
    },
    {
      "attachments": {},
      "cell_type": "markdown",
      "metadata": {},
      "source": [
        "#### `up`"
      ]
    },
    {
      "attachments": {},
      "cell_type": "markdown",
      "metadata": {},
      "source": [
        "Goes up `x` directories"
      ]
    },
    {
      "cell_type": "code",
      "execution_count": 5,
      "metadata": {
        "vscode": {
          "languageId": "shellscript"
        }
      },
      "outputs": [
        {
          "name": "stdout",
          "output_type": "stream",
          "text": [
            "You're here: /tmp/ubuntu_23739_dir/other/nested/stuff\n",
            "Moving up 3 dirs...\n",
            "Now you're here: /tmp/ubuntu_23739_dir\n"
          ]
        }
      ],
      "source": [
        "# shellcheck disable=SC2148\n",
        "mkdirg \"/tmp/${USER}_${RANDOM}_dir/other/nested/stuff\"\n",
        "echo \"You're here: $PWD\"\n",
        "echo \"Moving up 3 dirs...\"\n",
        "up 3\n",
        "echo \"Now you're here: $PWD\""
      ]
    },
    {
      "attachments": {},
      "cell_type": "markdown",
      "metadata": {},
      "source": [
        "#### `x`"
      ]
    },
    {
      "attachments": {},
      "cell_type": "markdown",
      "metadata": {},
      "source": [
        "Extract any compressed archive: `*.tar.bz2`, `*.tar.gz`, `*.bz2`, `*.rar`, `*.gz`, `*.tar`, `*.tbz2`, `*.tgz`, `*.zip`, `*.Z`, `*.7z`"
      ]
    },
    {
      "cell_type": "code",
      "execution_count": 6,
      "metadata": {
        "vscode": {
          "languageId": "shellscript"
        }
      },
      "outputs": [
        {
          "name": "stdout",
          "output_type": "stream",
          "text": [
            "design.tar.gz  dut.v  tb_top.v\ttop.v\n"
          ]
        }
      ],
      "source": [
        "# shellcheck disable=SC2148\n",
        "mkdirg /tmp/$RANDOM/ && cp \"$HOME\"/run-commands/notebooks/docs/functions/assets/design.tar.gz .\n",
        "x design.tar.gz && ls"
      ]
    },
    {
      "cell_type": "markdown",
      "metadata": {},
      "source": [
        "#### `xv`"
      ]
    },
    {
      "cell_type": "markdown",
      "metadata": {},
      "source": [
        "Extract any compressed archive with verbosity enabled: `*.tar.bz2`, `*.tar.gz`, `*.bz2`, `*.rar`, `*.gz`, `*.tar`, `*.tbz2`, `*.tgz`, `*.zip`, `*.Z`, `*.7z`"
      ]
    },
    {
      "cell_type": "code",
      "execution_count": 7,
      "metadata": {
        "vscode": {
          "languageId": "shellscript"
        }
      },
      "outputs": [
        {
          "name": "stdout",
          "output_type": "stream",
          "text": [
            "dut.v\n",
            "tb_top.v\n",
            "top.v\n"
          ]
        }
      ],
      "source": [
        "# shellcheck disable=SC2148\n",
        "cpg \"$HOME\"/run-commands/notebooks/docs/functions/assets/design.tar.gz /tmp\n",
        "xv design.tar.gz"
      ]
    }
  ],
  "metadata": {
    "kernelspec": {
      "display_name": "Bash",
      "language": "bash",
      "name": "bash"
    },
    "language_info": {
      "codemirror_mode": "shell",
      "file_extension": ".sh",
      "mimetype": "text/x-sh",
      "name": "bash"
    },
    "orig_nbformat": 4
  },
  "nbformat": 4,
  "nbformat_minor": 2
}
